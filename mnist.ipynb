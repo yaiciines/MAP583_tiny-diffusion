{
 "cells": [
  {
   "cell_type": "code",
   "execution_count": 8,
   "metadata": {},
   "outputs": [
    {
     "name": "stderr",
     "output_type": "stream",
     "text": [
      "/users/eleves-a/2021/ines.yaici/.local/lib/python3.9/site-packages/tqdm/auto.py:21: TqdmWarning: IProgress not found. Please update jupyter and ipywidgets. See https://ipywidgets.readthedocs.io/en/stable/user_install.html\n",
      "  from .autonotebook import tqdm as notebook_tqdm\n"
     ]
    }
   ],
   "source": [
    "import argparse\n",
    "import os\n",
    "import torch\n",
    "from torch import nn, optim\n",
    "from torch.nn import functional as F\n",
    "from torch.utils.data import DataLoader, Subset\n",
    "from torchvision import datasets, transforms\n",
    "from tqdm.auto import tqdm\n",
    "import numpy as np\n",
    "import matplotlib.pyplot as plt\n",
    "\n",
    "from tqdm import tqdm"
   ]
  },
  {
   "cell_type": "code",
   "execution_count": 10,
   "metadata": {},
   "outputs": [],
   "source": [
    "class ConvBlock(nn.Module):\n",
    "    def __init__(self, in_channels, out_channels, kernel_size=3, stride=1, padding=1):\n",
    "        super().__init__()\n",
    "        self.conv = nn.Conv2d(in_channels, out_channels, kernel_size, stride, padding)\n",
    "        self.bn = nn.BatchNorm2d(out_channels)\n",
    "        self.act = nn.ReLU()\n",
    "\n",
    "    def forward(self, x):\n",
    "        return self.act(self.bn(self.conv(x)))"
   ]
  },
  {
   "cell_type": "code",
   "execution_count": 12,
   "metadata": {},
   "outputs": [],
   "source": [
    "class MLP(nn.Module):\n",
    "    def __init__(self, image_channels=1, hidden_size=128, hidden_layers=3):\n",
    "        super().__init__()\n",
    "        self.initial_conv = ConvBlock(image_channels, hidden_size, kernel_size=7, stride=2, padding=3)\n",
    "        self.conv_blocks = nn.Sequential(*[ConvBlock(hidden_size, hidden_size) for _ in range(hidden_layers - 1)])\n",
    "        self.upsample = nn.ConvTranspose2d(hidden_size, hidden_size, kernel_size=4, stride=2, padding=1)  \n",
    "        self.final_conv = nn.Conv2d(hidden_size, image_channels, kernel_size=3, stride=1, padding=1)\n",
    "\n",
    "        # ajouter des linear ( MLP ) pour le label \n",
    "        \n",
    "    def forward(self, x):\n",
    "        x = self.initial_conv(x)\n",
    "        x = self.conv_blocks(x)\n",
    "        x = self.upsample(x)  # Application de l'upsample\n",
    "        x = self.final_conv(x)\n",
    "        return x\n",
    "\n"
   ]
  },
  {
   "cell_type": "code",
   "execution_count": 14,
   "metadata": {},
   "outputs": [],
   "source": [
    "def train_bis(model, dataloader, optimizer, device, config):\n",
    "    model.train()\n",
    "    noise_factor = 0.5\n",
    "    total_loss = 0\n",
    "    for batch_idx , (data, _) in tqdm(enumerate(dataloader)):\n",
    "        \n",
    "        for noise_factor in np.arange(0.4, 4, 0.2):\n",
    "            \n",
    "            noise = torch.randn_like(data) * noise_factor \n",
    "            \n",
    "            noisy_data = data + noise\n",
    "            noisy_data = noisy_data.to(device)\n",
    "            data = data.to(device)\n",
    "\n",
    "            optimizer.zero_grad()\n",
    "\n",
    "            # Le modèle essaie de débruiter l'image\n",
    "            output = model(noisy_data)\n",
    "\n",
    "            # Calculer la perte par rapport aux images originales non bruitées\n",
    "            loss = F.mse_loss(output, data)\n",
    "            loss.backward()\n",
    "            optimizer.step()\n",
    "            total_loss += loss.item()\n",
    "\n",
    "    return total_loss / len(dataloader)"
   ]
  },
  {
   "cell_type": "code",
   "execution_count": 15,
   "metadata": {},
   "outputs": [],
   "source": [
    "def train_bis_bis(model, dataloader, optimizer, device, config):\n",
    "\n",
    "    model.train()\n",
    "    noise_factor = 0.5\n",
    "    total_loss = 0\n",
    "    for batch_idx , (data, _) in tqdm(enumerate(dataloader)):\n",
    "        noisy_data_pred = data\n",
    "        for i in range(10):\n",
    "            noise = torch.randn_like(data) * 0.5\n",
    "            \n",
    "            noisy_data_pred = noisy_data\n",
    "            \n",
    "            noisy_data = noisy_data_pred + noise\n",
    "            \n",
    "            noisy_data = noisy_data.to(device)\n",
    "            data = data.to(device)\n",
    "\n",
    "            optimizer.zero_grad()\n",
    "\n",
    "            # Le modèle essaie de débruiter l'image\n",
    "            output = model(noisy_data)\n",
    "\n",
    "            # Calculer la perte par rapport aux images originales non bruitées\n",
    "            loss = F.mse_loss(output, noisy_data_pred)\n",
    "            loss.backward()\n",
    "            optimizer.step()\n",
    "            total_loss += loss.item()\n",
    "\n",
    "    return total_loss / len(dataloader)"
   ]
  },
  {
   "cell_type": "code",
   "execution_count": 16,
   "metadata": {},
   "outputs": [],
   "source": [
    "def train_param(model, dataloader, optimizer, device, config):\n",
    "    noise_scheduler = NoiseScheduler(\n",
    "        num_timesteps=config.num_timesteps,\n",
    "        beta_schedule=config.beta_schedule)\n",
    "\n",
    "    model.train()\n",
    "    noise_factor = 0.5\n",
    "    total_loss = 0\n",
    "    for batch_idx , (data, _) in tqdm(enumerate(dataloader)):\n",
    "        \n",
    "        for noise_factor in np.arange(0.1, 1, 0.1):\n",
    "            # noise factor = lambda \n",
    "            \n",
    "            noise = torch.randn_like(data) * noise_factor \n",
    "            noisy_data = (1 - noise_factor) * data + noise\n",
    "            \n",
    "            noisy_data = noisy_data.to(device)\n",
    "            data = data.to(device)\n",
    "\n",
    "            optimizer.zero_grad()\n",
    "\n",
    "            # Le modèle essaie de débruiter l'image\n",
    "            output = model(noisy_data)\n",
    "\n",
    "            # Calculer la perte par rapport aux images originales non bruitées\n",
    "            loss = F.mse_loss(output, data)\n",
    "            loss.backward()\n",
    "            optimizer.step()\n",
    "            total_loss += loss.item()\n",
    "\n",
    "    return total_loss / len(dataloader)"
   ]
  },
  {
   "cell_type": "code",
   "execution_count": 17,
   "metadata": {},
   "outputs": [
    {
     "data": {
      "text/plain": [
       "'if __name__ == \"__main__\":\\n    parser = argparse.ArgumentParser()\\n    parser.add_argument(\"--train_batch_size\", type=int, default=32)\\n    parser.add_argument(\"--num_epochs\", type=int, default=10)\\n    parser.add_argument(\"--learning_rate\", type=float, default=1e-3)\\n    config = parser.parse_args()\\n\\n    main(config)'"
      ]
     },
     "execution_count": 17,
     "metadata": {},
     "output_type": "execute_result"
    }
   ],
   "source": [
    "def main(config):\n",
    "    device = torch.device(\"cuda\" if torch.cuda.is_available() else \"cpu\")\n",
    "\n",
    "    transform = transforms.Compose([\n",
    "        transforms.ToTensor(),\n",
    "        transforms.Normalize((0.5,), (0.5,))\n",
    "    ])\n",
    "\n",
    "    dataset = datasets.MNIST(root='./data', train=True, download=True, transform=transform)\n",
    "    dataloader = DataLoader(dataset, batch_size=config.train_batch_size, shuffle=True)\n",
    "\n",
    "    model = MLP().to(device)\n",
    "    optimizer = optim.Adam(model.parameters(), lr=config.learning_rate)\n",
    "\n",
    "    for epoch in range(config.num_epochs):\n",
    "        loss = train_param(model, dataloader, optimizer, device,config) # train à choisir \n",
    "        print(f\"Epoch: {epoch+1}, Loss: {loss}\")\n",
    "\n",
    "    # Sauvegarder le modèle\n",
    "    if not os.path.exists('models'):\n",
    "        os.makedirs('models')\n",
    "    torch.save(model.state_dict(), f\"models/mnist_model_param.pth\") # Nom à changer à chaque fois \n"
   ]
  },
  {
   "cell_type": "code",
   "execution_count": 18,
   "metadata": {},
   "outputs": [
    {
     "name": "stderr",
     "output_type": "stream",
     "text": [
      "1875it [00:44, 42.30it/s]\n"
     ]
    },
    {
     "name": "stdout",
     "output_type": "stream",
     "text": [
      "Epoch: 1, Loss: 0.8234397842027247\n"
     ]
    },
    {
     "name": "stderr",
     "output_type": "stream",
     "text": [
      "1875it [00:44, 41.93it/s]\n"
     ]
    },
    {
     "name": "stdout",
     "output_type": "stream",
     "text": [
      "Epoch: 2, Loss: 0.7665982810767988\n"
     ]
    },
    {
     "name": "stderr",
     "output_type": "stream",
     "text": [
      "1875it [00:44, 42.50it/s]\n"
     ]
    },
    {
     "name": "stdout",
     "output_type": "stream",
     "text": [
      "Epoch: 3, Loss: 0.7569211384297659\n"
     ]
    },
    {
     "name": "stderr",
     "output_type": "stream",
     "text": [
      "1875it [00:44, 42.54it/s]\n"
     ]
    },
    {
     "name": "stdout",
     "output_type": "stream",
     "text": [
      "Epoch: 4, Loss: 0.7518727274989089\n"
     ]
    },
    {
     "name": "stderr",
     "output_type": "stream",
     "text": [
      "1875it [00:44, 42.52it/s]\n"
     ]
    },
    {
     "name": "stdout",
     "output_type": "stream",
     "text": [
      "Epoch: 5, Loss: 0.7491453651738663\n"
     ]
    },
    {
     "name": "stderr",
     "output_type": "stream",
     "text": [
      "1875it [00:44, 42.42it/s]\n"
     ]
    },
    {
     "name": "stdout",
     "output_type": "stream",
     "text": [
      "Epoch: 6, Loss: 0.7464581331506371\n"
     ]
    },
    {
     "name": "stderr",
     "output_type": "stream",
     "text": [
      "1875it [00:44, 42.35it/s]\n"
     ]
    },
    {
     "name": "stdout",
     "output_type": "stream",
     "text": [
      "Epoch: 7, Loss: 0.744635657640174\n"
     ]
    },
    {
     "name": "stderr",
     "output_type": "stream",
     "text": [
      "1875it [00:44, 42.38it/s]\n"
     ]
    },
    {
     "name": "stdout",
     "output_type": "stream",
     "text": [
      "Epoch: 8, Loss: 0.7435827865927169\n"
     ]
    },
    {
     "name": "stderr",
     "output_type": "stream",
     "text": [
      "1875it [00:44, 42.41it/s]\n"
     ]
    },
    {
     "name": "stdout",
     "output_type": "stream",
     "text": [
      "Epoch: 9, Loss: 0.7417325310749312\n"
     ]
    },
    {
     "name": "stderr",
     "output_type": "stream",
     "text": [
      "1875it [00:44, 42.49it/s]\n"
     ]
    },
    {
     "name": "stdout",
     "output_type": "stream",
     "text": [
      "Epoch: 10, Loss: 0.7408400376149764\n"
     ]
    },
    {
     "name": "stderr",
     "output_type": "stream",
     "text": [
      "1875it [00:43, 42.74it/s]\n"
     ]
    },
    {
     "name": "stdout",
     "output_type": "stream",
     "text": [
      "Epoch: 11, Loss: 0.7406881579466165\n"
     ]
    },
    {
     "name": "stderr",
     "output_type": "stream",
     "text": [
      "1875it [00:43, 42.75it/s]\n"
     ]
    },
    {
     "name": "stdout",
     "output_type": "stream",
     "text": [
      "Epoch: 12, Loss: 0.7396625354796648\n"
     ]
    },
    {
     "name": "stderr",
     "output_type": "stream",
     "text": [
      "1875it [00:44, 42.40it/s]\n"
     ]
    },
    {
     "name": "stdout",
     "output_type": "stream",
     "text": [
      "Epoch: 13, Loss: 0.738823534400637\n"
     ]
    },
    {
     "name": "stderr",
     "output_type": "stream",
     "text": [
      "1875it [00:43, 42.83it/s]\n"
     ]
    },
    {
     "name": "stdout",
     "output_type": "stream",
     "text": [
      "Epoch: 14, Loss: 0.7392799187795569\n"
     ]
    },
    {
     "name": "stderr",
     "output_type": "stream",
     "text": [
      "1875it [00:43, 42.98it/s]"
     ]
    },
    {
     "name": "stdout",
     "output_type": "stream",
     "text": [
      "Epoch: 15, Loss: 0.7380184020750225\n"
     ]
    },
    {
     "name": "stderr",
     "output_type": "stream",
     "text": [
      "\n"
     ]
    }
   ],
   "source": [
    "config = Config()\n",
    "main(config)"
   ]
  },
  {
   "cell_type": "code",
   "execution_count": 43,
   "metadata": {},
   "outputs": [],
   "source": [
    "class Config:\n",
    "    train_batch_size = 32\n",
    "    num_epochs = 15\n",
    "    learning_rate = 1e-3\n",
    "    num_timesteps = 50\n",
    "    beta_schedule = \"linear\"\n",
    "    eval_batch_size = 1000\n",
    "    image_size =28\n",
    "    "
   ]
  },
  {
   "cell_type": "markdown",
   "metadata": {},
   "source": []
  },
  {
   "cell_type": "code",
   "execution_count": 42,
   "metadata": {},
   "outputs": [
    {
     "name": "stdout",
     "output_type": "stream",
     "text": [
      "MLP(\n",
      "  (initial_conv): ConvBlock(\n",
      "    (conv): Conv2d(1, 128, kernel_size=(7, 7), stride=(2, 2), padding=(3, 3))\n",
      "    (bn): BatchNorm2d(128, eps=1e-05, momentum=0.1, affine=True, track_running_stats=True)\n",
      "    (act): ReLU()\n",
      "  )\n",
      "  (conv_blocks): Sequential(\n",
      "    (0): ConvBlock(\n",
      "      (conv): Conv2d(128, 128, kernel_size=(3, 3), stride=(1, 1), padding=(1, 1))\n",
      "      (bn): BatchNorm2d(128, eps=1e-05, momentum=0.1, affine=True, track_running_stats=True)\n",
      "      (act): ReLU()\n",
      "    )\n",
      "    (1): ConvBlock(\n",
      "      (conv): Conv2d(128, 128, kernel_size=(3, 3), stride=(1, 1), padding=(1, 1))\n",
      "      (bn): BatchNorm2d(128, eps=1e-05, momentum=0.1, affine=True, track_running_stats=True)\n",
      "      (act): ReLU()\n",
      "    )\n",
      "  )\n",
      "  (upsample): ConvTranspose2d(128, 128, kernel_size=(4, 4), stride=(2, 2), padding=(1, 1))\n",
      "  (final_conv): Conv2d(128, 1, kernel_size=(3, 3), stride=(1, 1), padding=(1, 1))\n",
      ")\n",
      "torch.Size([5, 1, 28, 28])\n"
     ]
    },
    {
     "data": {
      "image/png": "[encoded data removed]",
      "text/plain": [
       "<Figure size 1500x900 with 15 Axes>"
      ]
     },
     "metadata": {},
     "output_type": "display_data"
    }
   ],
   "source": [
    "\n",
    "transform = transforms.Compose([\n",
    "    transforms.ToTensor(),\n",
    "    transforms.Normalize((0.5,), (0.5,))\n",
    "])\n",
    "\n",
    "mnist_data = datasets.MNIST(root='./data', train=True, download=True, transform=transform)\n",
    "mnist_loader = DataLoader(mnist_data, batch_size=5, shuffle=True)\n",
    "\n",
    "\n",
    "model = MLP()\n",
    "model.load_state_dict(torch.load('models/mnist_model_param.pth'))\n",
    "\n",
    "# Afficher l'architecture du modèle\n",
    "print(model)\n",
    "\n",
    "# Prendre 5 images du dataset MNIST et les bruiter\n",
    "\n",
    "images, labels = next(iter(mnist_loader))\n",
    "#noisy_images = images + 3* torch.randn_like(images)  # Ajout d'un bruit gaussien\n",
    "noisy_images = 0.5*torch.randn_like(images)\n",
    "\n",
    "denoised_images = model(noisy_images)\n",
    "denoised_images = model(denoised_images)\n",
    "\n",
    "\n",
    "print(denoised_images.shape)\n",
    "\n",
    "fig, axs = plt.subplots(3, 5, figsize=(15, 9))\n",
    "for i in range(5):\n",
    "    \"\"\"axs[0, i].imshow(images[i].squeeze().detach().numpy(), cmap='gray')\n",
    "    axs[0, i].title.set_text('Original')\n",
    "    axs[0, i].axis('off')\"\"\"\n",
    "    \n",
    "    axs[1, i].imshow(noisy_images[i].squeeze().detach().numpy(), cmap='gray')\n",
    "    axs[1, i].title.set_text('Bruitée')\n",
    "    axs[1, i].axis('off')\n",
    "\n",
    "    axs[2, i].imshow(denoised_images[i].squeeze().detach().numpy(), cmap='gray')\n",
    "    axs[2, i].title.set_text('Débruitée')\n",
    "    axs[2, i].axis('off')\n",
    "\n",
    "plt.show()\n",
    "\n"
   ]
  },
  {
   "cell_type": "code",
   "execution_count": 36,
   "metadata": {},
   "outputs": [
    {
     "name": "stdout",
     "output_type": "stream",
     "text": [
      "MLP(\n",
      "  (initial_conv): ConvBlock(\n",
      "    (conv): Conv2d(1, 128, kernel_size=(7, 7), stride=(2, 2), padding=(3, 3))\n",
      "    (bn): BatchNorm2d(128, eps=1e-05, momentum=0.1, affine=True, track_running_stats=True)\n",
      "    (act): ReLU()\n",
      "  )\n",
      "  (conv_blocks): Sequential(\n",
      "    (0): ConvBlock(\n",
      "      (conv): Conv2d(128, 128, kernel_size=(3, 3), stride=(1, 1), padding=(1, 1))\n",
      "      (bn): BatchNorm2d(128, eps=1e-05, momentum=0.1, affine=True, track_running_stats=True)\n",
      "      (act): ReLU()\n",
      "    )\n",
      "    (1): ConvBlock(\n",
      "      (conv): Conv2d(128, 128, kernel_size=(3, 3), stride=(1, 1), padding=(1, 1))\n",
      "      (bn): BatchNorm2d(128, eps=1e-05, momentum=0.1, affine=True, track_running_stats=True)\n",
      "      (act): ReLU()\n",
      "    )\n",
      "  )\n",
      "  (upsample): ConvTranspose2d(128, 128, kernel_size=(4, 4), stride=(2, 2), padding=(1, 1))\n",
      "  (final_conv): Conv2d(128, 1, kernel_size=(3, 3), stride=(1, 1), padding=(1, 1))\n",
      ")\n",
      "torch.Size([5, 1, 28, 28])\n"
     ]
    },
    {
     "data": {
      "image/png": "[encoded data removed]",
      "text/plain": [
       "<Figure size 1500x900 with 15 Axes>"
      ]
     },
     "metadata": {},
     "output_type": "display_data"
    }
   ],
   "source": [
    "\n",
    "transform = transforms.Compose([\n",
    "    transforms.ToTensor(),\n",
    "    transforms.Normalize((0.5,), (0.5,))\n",
    "])\n",
    "\n",
    "mnist_data = datasets.MNIST(root='./data', train=True, download=True, transform=transform)\n",
    "mnist_loader = DataLoader(mnist_data, batch_size=5, shuffle=True)\n",
    "\n",
    "\n",
    "model = MLP()\n",
    "model.load_state_dict(torch.load('models/mnist_model_train_bis_0.2_15.pth'))\n",
    "\n",
    "# Afficher l'architecture du modèle\n",
    "print(model)\n",
    "\n",
    "# Prendre 5 images du dataset MNIST et les bruiter\n",
    "images, labels = next(iter(mnist_loader))\n",
    "#noisy_images = images + 3* torch.randn_like(images)  # Ajout d'un bruit gaussien\n",
    "noisy_images = 0.5*torch.randn_like(images)\n",
    "\n",
    "denoised_images = model(noisy_images)\n",
    "denoised_images = model(denoised_images)\n",
    "denoised_images = model(denoised_images)\n",
    "denoised_images = model(denoised_images)\n",
    "denoised_images = model(denoised_images)\n",
    "\n",
    "print(denoised_images.shape)\n",
    "\n",
    "fig, axs = plt.subplots(3, 5, figsize=(15, 9))\n",
    "for i in range(5):\n",
    "    \"\"\"axs[0, i].imshow(images[i].squeeze().detach().numpy(), cmap='gray')\n",
    "    axs[0, i].title.set_text('Original')\n",
    "    axs[0, i].axis('off')\"\"\"\n",
    "    \n",
    "    axs[1, i].imshow(noisy_images[i].squeeze().detach().numpy(), cmap='gray')\n",
    "    axs[1, i].title.set_text('Bruitée')\n",
    "    axs[1, i].axis('off')\n",
    "\n",
    "    axs[2, i].imshow(denoised_images[i].squeeze().detach().numpy(), cmap='gray')\n",
    "    axs[2, i].title.set_text('Débruitée')\n",
    "    axs[2, i].axis('off')\n",
    "\n",
    "plt.show()\n",
    "\n"
   ]
  },
  {
   "cell_type": "code",
   "execution_count": null,
   "metadata": {},
   "outputs": [],
   "source": []
  }
 ],
 "metadata": {
  "kernelspec": {
   "display_name": "Python 3",
   "language": "python",
   "name": "python3"
  },
  "language_info": {
   "codemirror_mode": {
    "name": "ipython",
    "version": 3
   },
   "file_extension": ".py",
   "mimetype": "text/x-python",
   "name": "python",
   "nbconvert_exporter": "python",
   "pygments_lexer": "ipython3",
   "version": "3.9.18"
  }
 },
 "nbformat": 4,
 "nbformat_minor": 2
}
