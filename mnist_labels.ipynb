{
 "cells": [
  {
   "cell_type": "code",
   "execution_count": 2,
   "metadata": {},
   "outputs": [
    {
     "name": "stderr",
     "output_type": "stream",
     "text": [
      "/users/eleves-b/2021/laurine.meier/.local/lib/python3.9/site-packages/tqdm/auto.py:21: TqdmWarning: IProgress not found. Please update jupyter and ipywidgets. See https://ipywidgets.readthedocs.io/en/stable/user_install.html\n",
      "  from .autonotebook import tqdm as notebook_tqdm\n"
     ]
    }
   ],
   "source": [
    "import argparse\n",
    "import os\n",
    "import torch\n",
    "from torch import nn, optim\n",
    "from torch.nn import functional as F\n",
    "from torch.utils.data import DataLoader, Subset\n",
    "from torchvision import datasets, transforms\n",
    "from tqdm.auto import tqdm\n",
    "import numpy as np\n",
    "import matplotlib.pyplot as plt\n",
    "from tqdm import tqdm\n"
   ]
  },
  {
   "cell_type": "code",
   "execution_count": 3,
   "metadata": {},
   "outputs": [],
   "source": [
    "device = torch.device(\"cuda\" if torch.cuda.is_available() else \"cpu\")"
   ]
  },
  {
   "cell_type": "code",
   "execution_count": 6,
   "metadata": {},
   "outputs": [],
   "source": [
    "class ConvBlock(nn.Module):\n",
    "    def __init__(self, in_channels, out_channels, kernel_size=3, stride=1, padding=1):\n",
    "        super().__init__()\n",
    "        self.conv = nn.Conv2d(in_channels, out_channels, kernel_size, stride, padding)\n",
    "        self.bn = nn.BatchNorm2d(out_channels)\n",
    "        self.act = nn.ReLU()\n",
    "        \n",
    "    def forward(self, x):\n",
    "     return self.act(self.bn(self.conv(x)))"
   ]
  },
  {
   "cell_type": "code",
   "execution_count": 7,
   "metadata": {},
   "outputs": [],
   "source": [
    "class Block(nn.Module):\n",
    "    def __init__(self, size: int):\n",
    "        super().__init__()\n",
    "\n",
    "        self.ff = nn.Linear(size, size)\n",
    "        self.act = nn.GELU()\n",
    "\n",
    "    def forward(self, x: torch.Tensor):\n",
    "        return x + self.act(self.ff(x))"
   ]
  },
  {
   "cell_type": "code",
   "execution_count": 8,
   "metadata": {},
   "outputs": [],
   "source": [
    "class MLP(nn.Module):\n",
    "      def __init__(self, image_channels=1, hidden_size=128, hidden_layers=5):\n",
    "         super().__init__()\n",
    "         self.initial_conv = ConvBlock(image_channels, hidden_size, kernel_size=7, stride=2, padding=3)\n",
    "         self.conv_blocks = nn.Sequential(*[ConvBlock(hidden_size, hidden_size) for _ in range(hidden_layers - 1)])\n",
    "         self.upsample = nn.ConvTranspose2d(hidden_size, hidden_size, kernel_size=4, stride=2, padding=1)  \n",
    "         self.final_conv = nn.Conv2d(hidden_size, image_channels, kernel_size=3, stride=1, padding=1)\n",
    "     \n",
    "        \n",
    "   \n",
    "         layers = [nn.Linear(785, hidden_size), nn.GELU()]\n",
    "         for _ in range(hidden_layers):\n",
    "            layers.append(Block(hidden_size))\n",
    "         layers.append(nn.Linear(hidden_size, 28*28))\n",
    "         self.joint_mlp = nn.Sequential(*layers)\n",
    "    \n",
    "      \n",
    "    \n",
    "      def forward(self, x,labels ):\n",
    "        x.to(device)\n",
    "        labels = labels.to(device)\n",
    "        x = self.initial_conv(x)\n",
    "        x = self.conv_blocks(x)\n",
    "        x = self.upsample(x)  # Application de l'upsample\\n\",\n",
    "        x = self.final_conv(x)\n",
    "\n",
    "        x=x.view(x.size(0),-1)\n",
    "        labels=labels.unsqueeze(1)\n",
    "        x.to(device)\n",
    "        x=torch.cat((x,labels),dim=-1)\n",
    "        x=self.joint_mlp(x)\n",
    "        \n",
    "        \n",
    "        return x"
   ]
  },
  {
   "cell_type": "code",
   "execution_count": 86,
   "metadata": {},
   "outputs": [],
   "source": [
    "def train_bis(model, dataloader, optimizer, device, config):\n",
    "    model.train()\n",
    "    noise_factor = 0.5\n",
    "    total_loss = 0\n",
    "    for batch_idx , (data, labels) in tqdm(enumerate(dataloader)):\n",
    "        for noise_factor in np.arange(0.4, 4, 0.2):\n",
    "\n",
    "            noise = torch.randn_like(data) * noise_factor \n",
    "\n",
    "            noisy_data = data + noise\n",
    "            noisy_data = noisy_data.to(device)\n",
    "            data = data.to(device)\n",
    "\n",
    "            optimizer.zero_grad()\n",
    "    \n",
    "               # Le modèle essaie de débruiter l'image\\n\",\n",
    "            output = model(noisy_data,labels)\n",
    "            output = output.view(32,1,28,28)\n",
    "            output.to(device)\n",
    "\n",
    "         # Calculer la perte par rapport aux images originales non bruitées\\n\",\n",
    "            loss = F.mse_loss(output, data)\n",
    "            loss.backward()\n",
    "            optimizer.step()\n",
    "            total_loss += loss.item()\n",
    "  \n",
    "    return total_loss / len(dataloader)"
   ]
  },
  {
   "cell_type": "code",
   "execution_count": 85,
   "metadata": {},
   "outputs": [],
   "source": [
    "def train_bis_bis(model, dataloader, optimizer, device, config):\n",
    "    model.train()\n",
    "    noise_factor = 0.5\n",
    "    total_loss = 0\n",
    "    for batch_idx , (data, labels) in tqdm(enumerate(dataloader)):\n",
    "        noisy_data_pred=data\n",
    "\n",
    "        noise = torch.randn_like(data) * 0.5\n",
    "        noisy_data_pred=noisy-data\n",
    "\n",
    "        noisy_data = noisy_data_pred + noise\n",
    "        noisy_data = noisy_data.to(device)\n",
    "        data = data.to(device)\n",
    "\n",
    "        optimizer.zero_grad()\n",
    "    \n",
    "               # Le modèle essaie de débruiter l'image\\n\",\n",
    "        output = model(noisy_data,labels)\n",
    "        output = output.view(32,1,28,28)\n",
    "        output.to(device)\n",
    "\n",
    "         # Calculer la perte par rapport aux images originales non bruitées\\n\",\n",
    "        loss = F.mse_loss(output, noisy_data_pred)\n",
    "        loss.backward()\n",
    "        optimizer.step()\n",
    "        total_loss += loss.item()\n",
    "  \n",
    "    return total_loss / len(dataloader)"
   ]
  },
  {
   "cell_type": "code",
   "execution_count": 45,
   "metadata": {},
   "outputs": [],
   "source": [
    "def train_param(model, dataloader, optimizer, device, config):\n",
    "    model.train()\n",
    "    noise_factor = 0.5\n",
    "    total_loss = 0\n",
    "    for batch_idx , (data, labels) in tqdm(enumerate(dataloader)):\n",
    "        for noise_factor in np.arange(0.1,1,0.1):\n",
    "            # noise_factor = lambda\n",
    "            noise = torch.randn_like(data) * noise_factor\n",
    "            noisy_data=(1-noise_factor)*data + noise\n",
    "\n",
    "            noisy_data = noisy_data + noise\n",
    "            noisy_data = noisy_data.to(device)\n",
    "            data = data.to(device)\n",
    "\n",
    "            optimizer.zero_grad()\n",
    "            \n",
    "               # Le modèle essaie de débruiter l'image\\n\",\n",
    "            output = model(noisy_data,labels)\n",
    "            output = output.view(32,1,28,28)\n",
    "            output.to(device)\n",
    "            \n",
    "            \n",
    "         # Calculer la perte par rapport aux images originales non bruitées\\n\",\n",
    "            loss = F.mse_loss(output, data)\n",
    "            loss.backward()\n",
    "            optimizer.step()\n",
    "            total_loss += loss.item()\n",
    "  \n",
    "    return total_loss / len(dataloader)"
   ]
  },
  {
   "cell_type": "code",
   "execution_count": 157,
   "metadata": {},
   "outputs": [],
   "source": [
    "def main(config):\n",
    "    device = torch.device(\"cuda\" if torch.cuda.is_available() else \"cpu\")\n",
    "    transform = transforms.Compose([\n",
    "    transforms.ToTensor(),\n",
    "    transforms.Normalize((0.5,), (0.5,)) ])\n",
    "\n",
    "    dataset = datasets.MNIST(root='./data', train=True, download=True, transform=transform)\n",
    "    dataloader = DataLoader(dataset, batch_size=config.train_batch_size, shuffle=True)\n",
    "\n",
    "    model = MLP().to(device)\n",
    "    optimizer = optim.Adam(model.parameters(), lr=config.learning_rate)\n",
    "    losses=[]\n",
    "    for epoch in range(config.num_epochs):\n",
    "        loss = train_param(model, dataloader, optimizer, device,config) # train à choisir \\n\",\n",
    "        losses.append(loss)\n",
    "        print(f\"Epoch: {epoch+1}, Loss: {loss}\")\n",
    "        \n",
    "     # Sauvegarder le modèle\\n\",\n",
    "    if not os.path.exists('models'):\n",
    "        os.makedirs('models')\n",
    "        \n",
    "    torch.save(model.state_dict(), f\"models/mnist_model_param_25_5.pth\")\n",
    " \n",
    "    # Tracer la courbe de la perte\n",
    "    plt.plot(range(1, config.num_epochs + 1), losses)\n",
    "    plt.xlabel('Epoch')\n",
    "    plt.ylabel('Loss')\n",
    "    plt.title('Évolution de la perte pendant l\\'entraînement')\n",
    "    plt.show()\n",
    "    \n",
    "    return model\n",
    "   "
   ]
  },
  {
   "cell_type": "code",
   "execution_count": 140,
   "metadata": {},
   "outputs": [],
   "source": [
    "class Config:\n",
    "    train_batch_size = 32\n",
    "    num_epochs = 25\n",
    "    learning_rate = 1e-4\n",
    "    num_timesteps = 50\n",
    "    beta_schedule = \"linear\"\n",
    "    eval_batch_size = 1000\n",
    "    image_size =28"
   ]
  },
  {
   "cell_type": "code",
   "execution_count": 158,
   "metadata": {},
   "outputs": [
    {
     "name": "stderr",
     "output_type": "stream",
     "text": [
      "1875it [01:16, 24.51it/s]\n"
     ]
    },
    {
     "name": "stdout",
     "output_type": "stream",
     "text": [
      "Epoch: 1, Loss: 1.382523910788695\n"
     ]
    },
    {
     "name": "stderr",
     "output_type": "stream",
     "text": [
      "1875it [01:18, 23.98it/s]\n"
     ]
    },
    {
     "name": "stdout",
     "output_type": "stream",
     "text": [
      "Epoch: 2, Loss: 1.09175041539371\n"
     ]
    },
    {
     "name": "stderr",
     "output_type": "stream",
     "text": [
      "1875it [01:18, 23.90it/s]\n"
     ]
    },
    {
     "name": "stdout",
     "output_type": "stream",
     "text": [
      "Epoch: 3, Loss: 1.0208308127890031\n"
     ]
    },
    {
     "name": "stderr",
     "output_type": "stream",
     "text": [
      "1875it [01:18, 23.94it/s]\n"
     ]
    },
    {
     "name": "stdout",
     "output_type": "stream",
     "text": [
      "Epoch: 4, Loss: 0.993246698174874\n"
     ]
    },
    {
     "name": "stderr",
     "output_type": "stream",
     "text": [
      "1875it [01:18, 23.94it/s]\n"
     ]
    },
    {
     "name": "stdout",
     "output_type": "stream",
     "text": [
      "Epoch: 5, Loss: 0.9797804244498411\n"
     ]
    },
    {
     "name": "stderr",
     "output_type": "stream",
     "text": [
      "1875it [01:18, 23.94it/s]\n"
     ]
    },
    {
     "name": "stdout",
     "output_type": "stream",
     "text": [
      "Epoch: 6, Loss: 0.9708145578066508\n"
     ]
    },
    {
     "name": "stderr",
     "output_type": "stream",
     "text": [
      "1875it [01:18, 23.92it/s]\n"
     ]
    },
    {
     "name": "stdout",
     "output_type": "stream",
     "text": [
      "Epoch: 7, Loss: 0.964381922391057\n"
     ]
    },
    {
     "name": "stderr",
     "output_type": "stream",
     "text": [
      "1875it [01:18, 23.91it/s]\n"
     ]
    },
    {
     "name": "stdout",
     "output_type": "stream",
     "text": [
      "Epoch: 8, Loss: 0.9584582837104797\n"
     ]
    },
    {
     "name": "stderr",
     "output_type": "stream",
     "text": [
      "1875it [01:18, 23.93it/s]\n"
     ]
    },
    {
     "name": "stdout",
     "output_type": "stream",
     "text": [
      "Epoch: 9, Loss: 0.9546428742756446\n"
     ]
    },
    {
     "name": "stderr",
     "output_type": "stream",
     "text": [
      "1875it [01:18, 23.97it/s]\n"
     ]
    },
    {
     "name": "stdout",
     "output_type": "stream",
     "text": [
      "Epoch: 10, Loss: 0.950368517652154\n"
     ]
    },
    {
     "name": "stderr",
     "output_type": "stream",
     "text": [
      "1875it [01:18, 23.99it/s]\n"
     ]
    },
    {
     "name": "stdout",
     "output_type": "stream",
     "text": [
      "Epoch: 11, Loss: 0.9472237882514795\n"
     ]
    },
    {
     "name": "stderr",
     "output_type": "stream",
     "text": [
      "1875it [01:18, 23.99it/s]\n"
     ]
    },
    {
     "name": "stdout",
     "output_type": "stream",
     "text": [
      "Epoch: 12, Loss: 0.9437635172456503\n"
     ]
    },
    {
     "name": "stderr",
     "output_type": "stream",
     "text": [
      "1875it [01:18, 24.00it/s]\n"
     ]
    },
    {
     "name": "stdout",
     "output_type": "stream",
     "text": [
      "Epoch: 13, Loss: 0.941917400893569\n"
     ]
    },
    {
     "name": "stderr",
     "output_type": "stream",
     "text": [
      "1875it [01:18, 24.00it/s]\n"
     ]
    },
    {
     "name": "stdout",
     "output_type": "stream",
     "text": [
      "Epoch: 14, Loss: 0.9392281585146983\n"
     ]
    },
    {
     "name": "stderr",
     "output_type": "stream",
     "text": [
      "1875it [01:18, 24.01it/s]\n"
     ]
    },
    {
     "name": "stdout",
     "output_type": "stream",
     "text": [
      "Epoch: 15, Loss: 0.9370500916878383\n"
     ]
    },
    {
     "name": "stderr",
     "output_type": "stream",
     "text": [
      "1875it [01:18, 24.00it/s]\n"
     ]
    },
    {
     "name": "stdout",
     "output_type": "stream",
     "text": [
      "Epoch: 16, Loss: 0.9350462700684865\n"
     ]
    },
    {
     "name": "stderr",
     "output_type": "stream",
     "text": [
      "1875it [01:18, 24.00it/s]\n"
     ]
    },
    {
     "name": "stdout",
     "output_type": "stream",
     "text": [
      "Epoch: 17, Loss: 0.9338020462463299\n"
     ]
    },
    {
     "name": "stderr",
     "output_type": "stream",
     "text": [
      "1875it [01:18, 24.00it/s]\n"
     ]
    },
    {
     "name": "stdout",
     "output_type": "stream",
     "text": [
      "Epoch: 18, Loss: 0.9322318218588829\n"
     ]
    },
    {
     "name": "stderr",
     "output_type": "stream",
     "text": [
      "1875it [01:18, 24.01it/s]\n"
     ]
    },
    {
     "name": "stdout",
     "output_type": "stream",
     "text": [
      "Epoch: 19, Loss: 0.9296386039286851\n"
     ]
    },
    {
     "name": "stderr",
     "output_type": "stream",
     "text": [
      "1875it [01:18, 24.00it/s]\n"
     ]
    },
    {
     "name": "stdout",
     "output_type": "stream",
     "text": [
      "Epoch: 20, Loss: 0.929520303539435\n"
     ]
    },
    {
     "name": "stderr",
     "output_type": "stream",
     "text": [
      "1875it [01:18, 23.98it/s]\n"
     ]
    },
    {
     "name": "stdout",
     "output_type": "stream",
     "text": [
      "Epoch: 21, Loss: 0.9290156475355228\n"
     ]
    },
    {
     "name": "stderr",
     "output_type": "stream",
     "text": [
      "1875it [01:18, 23.97it/s]\n"
     ]
    },
    {
     "name": "stdout",
     "output_type": "stream",
     "text": [
      "Epoch: 22, Loss: 0.9269454542279243\n"
     ]
    },
    {
     "name": "stderr",
     "output_type": "stream",
     "text": [
      "1875it [01:18, 23.96it/s]\n"
     ]
    },
    {
     "name": "stdout",
     "output_type": "stream",
     "text": [
      "Epoch: 23, Loss: 0.9260432983805736\n"
     ]
    },
    {
     "name": "stderr",
     "output_type": "stream",
     "text": [
      "1875it [01:18, 23.96it/s]\n"
     ]
    },
    {
     "name": "stdout",
     "output_type": "stream",
     "text": [
      "Epoch: 24, Loss: 0.9252398842533429\n"
     ]
    },
    {
     "name": "stderr",
     "output_type": "stream",
     "text": [
      "1875it [01:18, 23.97it/s]\n"
     ]
    },
    {
     "name": "stdout",
     "output_type": "stream",
     "text": [
      "Epoch: 25, Loss: 0.924093269666036\n"
     ]
    },
    {
     "data": {
      "image/png": "[encoded data removed]",
      "text/plain": [
       "<Figure size 640x480 with 1 Axes>"
      ]
     },
     "metadata": {},
     "output_type": "display_data"
    }
   ],
   "source": [
    "config = Config()\n",
    "model = main(config)"
   ]
  },
  {
   "cell_type": "code",
   "execution_count": 11,
   "metadata": {},
   "outputs": [],
   "source": [
    "def plot_digit(noisy_images,denoised_images,i):\n",
    "    fig, axs = plt.subplots(2, 5, figsize=(15, 9))\n",
    "\n",
    "    fig.suptitle(f\"Nombre de fois où le modèle est appliqué : {i}\")\n",
    "    for i in range(5):\n",
    "        axs[0, i].imshow(noisy_images[i].squeeze().detach().cpu().numpy(), cmap='gray')\n",
    "        axs[0, i].title.set_text('Bruitée')\n",
    "        axs[0, i].axis('off')\n",
    "\n",
    "        axs[1, i].imshow(denoised_images[i].squeeze().detach().cpu().numpy(), cmap='gray')\n",
    "        axs[1, i].title.set_text('Débruitée')\n",
    "        axs[1, i].axis('off')\n",
    "\n",
    "    plt.show()"
   ]
  },
  {
   "cell_type": "markdown",
   "metadata": {},
   "source": []
  },
  {
   "cell_type": "code",
   "execution_count": 13,
   "metadata": {},
   "outputs": [
    {
     "name": "stdout",
     "output_type": "stream",
     "text": [
      "12000\n",
      "60000\n",
      "MLP(\n",
      "  (initial_conv): ConvBlock(\n",
      "    (conv): Conv2d(1, 128, kernel_size=(7, 7), stride=(2, 2), padding=(3, 3))\n",
      "    (bn): BatchNorm2d(128, eps=1e-05, momentum=0.1, affine=True, track_running_stats=True)\n",
      "    (act): ReLU()\n",
      "  )\n",
      "  (conv_blocks): Sequential(\n",
      "    (0): ConvBlock(\n",
      "      (conv): Conv2d(128, 128, kernel_size=(3, 3), stride=(1, 1), padding=(1, 1))\n",
      "      (bn): BatchNorm2d(128, eps=1e-05, momentum=0.1, affine=True, track_running_stats=True)\n",
      "      (act): ReLU()\n",
      "    )\n",
      "    (1): ConvBlock(\n",
      "      (conv): Conv2d(128, 128, kernel_size=(3, 3), stride=(1, 1), padding=(1, 1))\n",
      "      (bn): BatchNorm2d(128, eps=1e-05, momentum=0.1, affine=True, track_running_stats=True)\n",
      "      (act): ReLU()\n",
      "    )\n",
      "    (2): ConvBlock(\n",
      "      (conv): Conv2d(128, 128, kernel_size=(3, 3), stride=(1, 1), padding=(1, 1))\n",
      "      (bn): BatchNorm2d(128, eps=1e-05, momentum=0.1, affine=True, track_running_stats=True)\n",
      "      (act): ReLU()\n",
      "    )\n",
      "    (3): ConvBlock(\n",
      "      (conv): Conv2d(128, 128, kernel_size=(3, 3), stride=(1, 1), padding=(1, 1))\n",
      "      (bn): BatchNorm2d(128, eps=1e-05, momentum=0.1, affine=True, track_running_stats=True)\n",
      "      (act): ReLU()\n",
      "    )\n",
      "  )\n",
      "  (upsample): ConvTranspose2d(128, 128, kernel_size=(4, 4), stride=(2, 2), padding=(1, 1))\n",
      "  (final_conv): Conv2d(128, 1, kernel_size=(3, 3), stride=(1, 1), padding=(1, 1))\n",
      "  (joint_mlp): Sequential(\n",
      "    (0): Linear(in_features=785, out_features=128, bias=True)\n",
      "    (1): GELU(approximate='none')\n",
      "    (2): Block(\n",
      "      (ff): Linear(in_features=128, out_features=128, bias=True)\n",
      "      (act): GELU(approximate='none')\n",
      "    )\n",
      "    (3): Block(\n",
      "      (ff): Linear(in_features=128, out_features=128, bias=True)\n",
      "      (act): GELU(approximate='none')\n",
      "    )\n",
      "    (4): Block(\n",
      "      (ff): Linear(in_features=128, out_features=128, bias=True)\n",
      "      (act): GELU(approximate='none')\n",
      "    )\n",
      "    (5): Block(\n",
      "      (ff): Linear(in_features=128, out_features=128, bias=True)\n",
      "      (act): GELU(approximate='none')\n",
      "    )\n",
      "    (6): Block(\n",
      "      (ff): Linear(in_features=128, out_features=128, bias=True)\n",
      "      (act): GELU(approximate='none')\n",
      "    )\n",
      "    (7): Linear(in_features=128, out_features=784, bias=True)\n",
      "  )\n",
      ")\n"
     ]
    },
    {
     "data": {
      "image/png": "[encoded data removed]",
      "text/plain": [
       "<Figure size 1500x900 with 10 Axes>"
      ]
     },
     "metadata": {},
     "output_type": "display_data"
    }
   ],
   "source": [
    "transform = transforms.Compose([\n",
    "    transforms.ToTensor(),\n",
    "    transforms.Normalize((0.5,), (0.5,))\n",
    "])\n",
    "\n",
    "\n",
    "mnist_data = datasets.MNIST(root='./data', train=True, download=True, transform=transform)\n",
    "mnist_loader = DataLoader(mnist_data, batch_size=5, shuffle=True)\n",
    "print(len(mnist_loader))\n",
    "print(len(mnist_data))\n",
    "\n",
    "model = MLP()\n",
    "model.to(device)\n",
    "model.load_state_dict(torch.load(\"models/mnist_model_param_25_5.pth\"))\n",
    "model.eval()\n",
    "# Afficher l'architecture du modèle\n",
    "print(model)\n",
    "\n",
    "# Prendre 5 images du dataset MNIST et les bruiter\n",
    "images, _ = next(iter(mnist_loader))\n",
    "\n",
    "labels = torch.tensor([6,7,8,9,0])\n",
    "noisy_images =  torch.randn_like(images)\n",
    "noisy_images = noisy_images.to(device)\n",
    "labels=labels.to(device)\n",
    "\n",
    "# for i in range(1, 10):  \n",
    "denoised_images = noisy_images.clone().detach()  \n",
    "\n",
    "for j in range(4):\n",
    "    denoised_images = model(denoised_images, labels)\n",
    "    denoised_images = denoised_images.view(5, 1, 28, 28)\n",
    "\n",
    "    \n",
    "plot_digit(noisy_images, denoised_images, 2)\n",
    "\n",
    "    "
   ]
  }
 ],
 "metadata": {
  "kernelspec": {
   "display_name": "Python 3",
   "language": "python",
   "name": "python3"
  },
  "language_info": {
   "codemirror_mode": {
    "name": "ipython",
    "version": 3
   },
   "file_extension": ".py",
   "mimetype": "text/x-python",
   "name": "python",
   "nbconvert_exporter": "python",
   "pygments_lexer": "ipython3",
   "version": "3.9.18"
  }
 },
 "nbformat": 4,
 "nbformat_minor": 2
}
